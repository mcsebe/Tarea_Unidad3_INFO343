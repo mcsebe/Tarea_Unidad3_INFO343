{
 "cells": [
  {
   "cell_type": "markdown",
   "metadata": {},
   "source": [
    "### Introducción\n",
    "- Trabajo de la asignatura INFO343 …\n",
    "- Breve descripción del desafío y los datos\n",
    "\n",
    "### Desafío\n",
    "- Descripción incluyendo autores, año, institución, paper en el que se describe, etc.\n",
    "- https://arxiv.org/pdf/1807.09902\n",
    "\n",
    "### Datos\n",
    "- Cuantos datos hay\n",
    "- Cuantas clases distintas hay\n",
    "- Cuantos datos están verificados\n",
    "- Como se estructuran (carpeta test y train)\n",
    "- Ejemplo de 1 espectrograma de cada clase\n",
    "\n",
    "### Solución\n",
    "- Paper\n",
    "- Autores\n",
    "- año\n",
    "- Score\n",
    "- https://dcase.community/documents/challenge2018/technical_reports/DCASE2018_Baseline_87.pdf\n",
    "\n",
    "### Código\n",
    "- Como ejecutar\n",
    "- Estructura del código\n",
    "- Archivos auxiliares\n",
    "\t- Funciones de cada archivo\n",
    "- Modelo\n",
    "\t- Arquitectura\n",
    "\t- Explicación\n",
    "- Código del modelo\n",
    "- Ejecutar"
   ]
  }
 ],
 "metadata": {
  "kernelspec": {
   "display_name": "Python 3 (ipykernel)",
   "language": "python",
   "name": "python3"
  },
  "language_info": {
   "codemirror_mode": {
    "name": "ipython",
    "version": 3
   },
   "file_extension": ".py",
   "mimetype": "text/x-python",
   "name": "python",
   "nbconvert_exporter": "python",
   "pygments_lexer": "ipython3",
   "version": "3.12.4"
  }
 },
 "nbformat": 4,
 "nbformat_minor": 4
}
