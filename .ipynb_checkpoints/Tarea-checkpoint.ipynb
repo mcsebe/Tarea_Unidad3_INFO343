{
 "cells": [
  {
   "cell_type": "markdown",
   "metadata": {},
   "source": [
    "### Introducción\n",
    "- Trabajo de la asignatura INFO343 …\n",
    "- Breve descripción del desafío y los datos\n",
    "\n",
    "### Desafío\n",
    "- Descripción incluyendo autores, año, institución, paper en el que se describe, etc.\n",
    "- https://arxiv.org/pdf/1807.09902\n",
    "\n",
    "### Datos\n",
    "- Cuantos datos hay\n",
    "- Cuantas clases distintas hay\n",
    "- Cuantos datos están verificados\n",
    "- Como se estructuran (carpeta test y train)\n",
    "- Ejemplo de 1 espectrograma de cada clase\n",
    "\n",
    "### Solución\n",
    "- Paper\n",
    "- Autores\n",
    "- año\n",
    "- Score\n",
    "- https://dcase.community/documents/challenge2018/technical_reports/DCASE2018_Baseline_87.pdf\n",
    "\n",
    "### Código\n",
    "- Como ejecutar\n",
    "- Estructura del código\n",
    "- Archivos auxiliares\n",
    "\t- Funciones de cada archivo\n",
    "- Modelo\n",
    "\t- Arquitectura\n",
    "\t- Explicación\n",
    "- Código del modelo\n",
    "- Ejecutar"
   ]
  },
  {
   "cell_type": "markdown",
   "metadata": {},
   "source": [
    "# Código\n",
    "\n",
    "\n",
    "- matplotlib = 3.9.1\n",
    "- numpy = 1.26.4\n",
    "- scipy = 1.14.0\n",
    "- h5py = 3.11.0\n",
    "- pytorch = 2.3.1\n",
    "- librosa = 0.10.2\n",
    "- scikit-learn = 1.5.1\n",
    "- soundfile = 0.12.1"
   ]
  },
  {
   "cell_type": "code",
   "execution_count": 4,
   "metadata": {},
   "outputs": [
    {
     "ename": "ModuleNotFoundError",
     "evalue": "No module named 'torch'",
     "output_type": "error",
     "traceback": [
      "\u001b[1;31m---------------------------------------------------------------------------\u001b[0m",
      "\u001b[1;31mModuleNotFoundError\u001b[0m                       Traceback (most recent call last)",
      "Cell \u001b[1;32mIn[4], line 1\u001b[0m\n\u001b[1;32m----> 1\u001b[0m \u001b[38;5;28;01mimport\u001b[39;00m \u001b[38;5;21;01mtorch\u001b[39;00m\n\u001b[0;32m      2\u001b[0m torch\u001b[38;5;241m.\u001b[39m__version__\n",
      "\u001b[1;31mModuleNotFoundError\u001b[0m: No module named 'torch'"
     ]
    }
   ],
   "source": [
    "import os\n",
    "import numpy\n",
    "import argparse\n",
    "import sys\n",
    "import soundfile\n",
    "import numpy as np\n",
    "import librosa\n",
    "import h5py\n",
    "import time\n",
    "import random\n",
    "import pandas as pd\n",
    "from scipy import signal\n",
    "import matplotlib.pyplot as plt\n",
    "import logging\n",
    "\n",
    "import math\n",
    "import torch\n",
    "import torch.nn as nn\n",
    "import torch.nn.functional as F\n",
    "import torch.utils.data as data\n",
    "import torch.optim as optim\n",
    "\n",
    "from sklearn import preprocessing\n",
    "import pickle"
   ]
  },
  {
   "cell_type": "code",
   "execution_count": null,
   "metadata": {},
   "outputs": [],
   "source": [
    "import os\n",
    "import numpy\n",
    "import argparse\n",
    "import sys\n",
    "import soundfile\n",
    "import numpy as np\n",
    "import librosa\n",
    "import h5py\n",
    "import pandas as pd\n",
    "from scipy import signal\n",
    "import matplotlib.pyplot as plt\n",
    "import logging"
   ]
  }
 ],
 "metadata": {
  "kernelspec": {
   "display_name": "Python 3 (ipykernel)",
   "language": "python",
   "name": "python3"
  },
  "language_info": {
   "codemirror_mode": {
    "name": "ipython",
    "version": 3
   },
   "file_extension": ".py",
   "mimetype": "text/x-python",
   "name": "python",
   "nbconvert_exporter": "python",
   "pygments_lexer": "ipython3",
   "version": "3.10.2"
  }
 },
 "nbformat": 4,
 "nbformat_minor": 4
}
